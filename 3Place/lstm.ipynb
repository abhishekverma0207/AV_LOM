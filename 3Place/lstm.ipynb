{
 "cells": [
  {
   "cell_type": "code",
   "execution_count": 1,
   "metadata": {
    "colab": {
     "autoexec": {
      "startup": false,
      "wait_interval": 0
     }
    },
    "colab_type": "code",
    "id": "1wB8EOLGKyPE"
   },
   "outputs": [
    {
     "name": "stderr",
     "output_type": "stream",
     "text": [
      "/usr/local/lib/python2.7/site-packages/h5py/__init__.py:36: FutureWarning: Conversion of the second argument of issubdtype from `float` to `np.floating` is deprecated. In future, it will be treated as `np.float64 == np.dtype(float).type`.\n",
      "  from ._conv import register_converters as _register_converters\n",
      "Using TensorFlow backend.\n"
     ]
    }
   ],
   "source": [
    "from keras.models import Sequential\n",
    "from keras.layers.core import Dense, Dropout, Activation\n",
    "from keras.layers import Merge, TimeDistributed, concatenate, Bidirectional, Masking, RepeatVector\n",
    "from keras.layers.embeddings import Embedding\n",
    "from keras.layers.recurrent import LSTM, GRU, SimpleRNN\n",
    "from keras.preprocessing.sequence import pad_sequences\n",
    "from keras.layers.convolutional import Convolution1D, MaxPooling1D\n",
    "from keras.callbacks import Callback\n",
    "from keras.layers import Dense,Input,LSTM,Bidirectional,Activation,Conv1D,GRU, Conv2D\n",
    "from keras.callbacks import Callback, History\n",
    "from keras.layers import Dropout,Embedding,GlobalMaxPooling1D, MaxPooling1D, Add, Flatten\n",
    "from keras.preprocessing import text, sequence\n",
    "from keras.layers import GlobalAveragePooling1D, GlobalMaxPooling1D, concatenate, SpatialDropout1D, Masking\n",
    "from keras import initializers, regularizers, constraints, optimizers, layers, callbacks\n",
    "from keras.callbacks import EarlyStopping,ModelCheckpoint\n",
    "from keras.models import Model\n",
    "from keras.optimizers import Adam\n",
    "from sklearn.model_selection import train_test_split\n",
    "from sklearn.metrics import accuracy_score\n",
    "from sklearn.metrics import roc_auc_score"
   ]
  },
  {
   "cell_type": "code",
   "execution_count": 2,
   "metadata": {
    "colab": {
     "autoexec": {
      "startup": false,
      "wait_interval": 0
     }
    },
    "colab_type": "code",
    "id": "a7YM8iOuKyCU"
   },
   "outputs": [],
   "source": [
    "%matplotlib inline\n",
    "import pandas as pd\n",
    "import numpy as np\n",
    "# import lightgbm as lgb\n",
    "from sklearn.linear_model import LogisticRegression\n",
    "from sklearn.model_selection import train_test_split\n",
    "from sklearn.preprocessing import MaxAbsScaler,MinMaxScaler\n",
    "from sklearn.pipeline import Pipeline\n",
    "import matplotlib.pyplot as plt"
   ]
  },
  {
   "cell_type": "code",
   "execution_count": 3,
   "metadata": {
    "colab": {
     "autoexec": {
      "startup": false,
      "wait_interval": 0
     }
    },
    "colab_type": "code",
    "id": "oa8zhndYKyCa"
   },
   "outputs": [],
   "source": [
    "train= pd.read_csv('train.csv')\n",
    "test= pd.read_csv('test_BDIfz5B.csv')\n",
    "campaign_df= pd.read_csv('campaign_data.csv')"
   ]
  },
  {
   "cell_type": "code",
   "execution_count": 4,
   "metadata": {
    "colab": {
     "autoexec": {
      "startup": false,
      "wait_interval": 0
     }
    },
    "colab_type": "code",
    "id": "BM5dBdV_KyEY"
   },
   "outputs": [],
   "source": [
    "train_df= train.merge(campaign_df,how='left')\n",
    "test_df= test.merge(campaign_df,how='left')"
   ]
  },
  {
   "cell_type": "code",
   "execution_count": 5,
   "metadata": {
    "colab": {
     "autoexec": {
      "startup": false,
      "wait_interval": 0
     }
    },
    "colab_type": "code",
    "id": "IzhZ-LitKyEf"
   },
   "outputs": [],
   "source": [
    "train_df.send_date=pd.to_datetime(train_df.send_date,format=\"%d-%m-%Y %H:%M\")"
   ]
  },
  {
   "cell_type": "code",
   "execution_count": 6,
   "metadata": {
    "colab": {
     "autoexec": {
      "startup": false,
      "wait_interval": 0
     }
    },
    "colab_type": "code",
    "id": "FEYTJLOrKyMb"
   },
   "outputs": [],
   "source": [
    "# Form sentences for clicks per user, open per user, etc\n",
    "sentences=train_df.groupby('user_id').is_click.apply(lambda x: list(x))"
   ]
  },
  {
   "cell_type": "code",
   "execution_count": 7,
   "metadata": {
    "colab": {
     "autoexec": {
      "startup": false,
      "wait_interval": 0
     }
    },
    "colab_type": "code",
    "id": "FjfydUWPKyMl"
   },
   "outputs": [],
   "source": [
    "sentences_open = train_df.groupby('user_id').is_open.apply(lambda x: list(x))"
   ]
  },
  {
   "cell_type": "code",
   "execution_count": 8,
   "metadata": {
    "colab": {
     "autoexec": {
      "startup": false,
      "wait_interval": 0
     }
    },
    "colab_type": "code",
    "id": "onK2KcK1KyNP"
   },
   "outputs": [],
   "source": [
    "train_df['communication_id'],invercom= pd.factorize(train_df.communication_type)"
   ]
  },
  {
   "cell_type": "code",
   "execution_count": 9,
   "metadata": {
    "colab": {
     "autoexec": {
      "startup": false,
      "wait_interval": 0
     }
    },
    "colab_type": "code",
    "id": "m8G_5wGJKyNd"
   },
   "outputs": [],
   "source": [
    "sentences_days = train_df.groupby('user_id').no_of_sections.apply(lambda x: list(x))"
   ]
  },
  {
   "cell_type": "code",
   "execution_count": 10,
   "metadata": {
    "colab": {
     "autoexec": {
      "startup": false,
      "wait_interval": 0
     }
    },
    "colab_type": "code",
    "id": "1-vjG9j1KyNg"
   },
   "outputs": [],
   "source": [
    "sentences_com = train_df.groupby('user_id').no_of_images.apply(lambda x: list(x))"
   ]
  },
  {
   "cell_type": "code",
   "execution_count": 11,
   "metadata": {
    "colab": {
     "autoexec": {
      "startup": false,
      "wait_interval": 0
     }
    },
    "colab_type": "code",
    "id": "V19wlcxowGs1"
   },
   "outputs": [],
   "source": [
    "sentences_links = train_df.groupby('user_id').total_links.apply(lambda x: list(x))"
   ]
  },
  {
   "cell_type": "code",
   "execution_count": 12,
   "metadata": {
    "colab": {
     "autoexec": {
      "startup": false,
      "wait_interval": 0
     }
    },
    "colab_type": "code",
    "id": "TJRWvekdKyNk"
   },
   "outputs": [],
   "source": [
    "sennew=zip(sentences, sentences_open,sentences_days,sentences_com,sentences_links)"
   ]
  },
  {
   "cell_type": "code",
   "execution_count": 13,
   "metadata": {
    "colab": {
     "autoexec": {
      "startup": false,
      "wait_interval": 0
     }
    },
    "colab_type": "code",
    "id": "oLH1TRCcKyNl"
   },
   "outputs": [],
   "source": [
    "# make n_rows*n_timesteps* n_features vector for all sequences\n",
    "sequences_ori=pad_sequences(pd.Series(sennew).apply(lambda x: zip(x[0],x[1])).tolist(),value=-1,padding='pre')"
   ]
  },
  {
   "cell_type": "code",
   "execution_count": 14,
   "metadata": {
    "colab": {
     "autoexec": {
      "startup": false,
      "wait_interval": 0
     }
    },
    "colab_type": "code",
    "id": "jPCXglb8KyOA"
   },
   "outputs": [],
   "source": [
    "# filter those which have length of 1\n",
    "\n",
    "sentences2=sentences[sentences.apply(lambda x: len(x))>1]"
   ]
  },
  {
   "cell_type": "code",
   "execution_count": 15,
   "metadata": {
    "colab": {
     "autoexec": {
      "startup": false,
      "wait_interval": 0
     }
    },
    "colab_type": "code",
    "id": "CJCBvAfIKyOX"
   },
   "outputs": [],
   "source": [
    "sentences_open2 = sentences_open[sentences_open.apply(lambda x: len(x))>1]"
   ]
  },
  {
   "cell_type": "code",
   "execution_count": 16,
   "metadata": {
    "colab": {
     "autoexec": {
      "startup": false,
      "wait_interval": 0
     }
    },
    "colab_type": "code",
    "id": "uNKsZ5LaKyOc"
   },
   "outputs": [],
   "source": [
    "sentences_days2= sentences_days[sentences_days.apply(lambda x: len(x)>1)]"
   ]
  },
  {
   "cell_type": "code",
   "execution_count": 17,
   "metadata": {
    "colab": {
     "autoexec": {
      "startup": false,
      "wait_interval": 0
     }
    },
    "colab_type": "code",
    "id": "k3FAD5qUKyOg"
   },
   "outputs": [],
   "source": [
    "sentences_com2= sentences_com[sentences_com.apply(lambda x: len(x)>1)]"
   ]
  },
  {
   "cell_type": "code",
   "execution_count": 18,
   "metadata": {
    "colab": {
     "autoexec": {
      "startup": false,
      "wait_interval": 0
     }
    },
    "colab_type": "code",
    "id": "8aFn0ROiwTE7"
   },
   "outputs": [],
   "source": [
    "sentences_links2= sentences_links[sentences_links.apply(lambda x: len(x)>1)]"
   ]
  },
  {
   "cell_type": "code",
   "execution_count": 19,
   "metadata": {
    "colab": {
     "autoexec": {
      "startup": false,
      "wait_interval": 0
     }
    },
    "colab_type": "code",
    "id": "MYxADjpvKyOj"
   },
   "outputs": [],
   "source": [
    "sennew=zip(sentences2, sentences_open2,sentences_days2,sentences_com2,sentences_links2)\n",
    "# seqser=pd.concat((pd.Series(sennew).apply(lambda x: zip(x[0],x[1])).apply(lambda x: random.sample(x,len(x))),\n",
    "# pd.Series(sennew).apply(lambda x: zip(x[0],x[1]))))\n",
    "seqser=pd.Series(sennew).apply(lambda x: zip(x[0],x[1]))\n",
    "sequences=pad_sequences(seqser.tolist(),value=-1,padding='pre')"
   ]
  },
  {
   "cell_type": "code",
   "execution_count": 149,
   "metadata": {
    "colab": {
     "autoexec": {
      "startup": false,
      "wait_interval": 0
     },
     "base_uri": "https://localhost:8080/",
     "height": 34,
     "output_extras": [
      {
       "item_id": 1
      }
     ]
    },
    "colab_type": "code",
    "executionInfo": {
     "elapsed": 1128,
     "status": "ok",
     "timestamp": 1522577949845,
     "user": {
      "displayName": "Akash Gupta",
      "photoUrl": "//lh4.googleusercontent.com/-lbaoCqdKDCg/AAAAAAAAAAI/AAAAAAAAMhQ/YGRqD6U9Se8/s50-c-k-no/photo.jpg",
      "userId": "111901583339877553911"
     },
     "user_tz": -330
    },
    "id": "76wQldP6KyO1",
    "outputId": "cc802a92-9e43-46ac-db15-d62e91c6f276"
   },
   "outputs": [
    {
     "data": {
      "text/plain": [
       "(151470, 20, 2)"
      ]
     },
     "execution_count": 149,
     "metadata": {
      "tags": []
     },
     "output_type": "execute_result"
    }
   ],
   "source": [
    "sequences.shape"
   ]
  },
  {
   "cell_type": "code",
   "execution_count": 150,
   "metadata": {
    "colab": {
     "autoexec": {
      "startup": false,
      "wait_interval": 0
     },
     "base_uri": "https://localhost:8080/",
     "height": 34,
     "output_extras": [
      {
       "item_id": 1
      }
     ]
    },
    "colab_type": "code",
    "executionInfo": {
     "elapsed": 1231,
     "status": "ok",
     "timestamp": 1522577951279,
     "user": {
      "displayName": "Akash Gupta",
      "photoUrl": "//lh4.googleusercontent.com/-lbaoCqdKDCg/AAAAAAAAAAI/AAAAAAAAMhQ/YGRqD6U9Se8/s50-c-k-no/photo.jpg",
      "userId": "111901583339877553911"
     },
     "user_tz": -330
    },
    "id": "rMXWBN8qKyPB",
    "outputId": "e282b7ee-dc48-40a7-ca92-f407b7677033"
   },
   "outputs": [
    {
     "data": {
      "text/plain": [
       "(168236, 20, 2)"
      ]
     },
     "execution_count": 150,
     "metadata": {
      "tags": []
     },
     "output_type": "execute_result"
    }
   ],
   "source": [
    "sequences_ori.shape"
   ]
  },
  {
   "cell_type": "code",
   "execution_count": 20,
   "metadata": {
    "colab": {
     "autoexec": {
      "startup": false,
      "wait_interval": 0
     }
    },
    "colab_type": "code",
    "id": "4Ha3DVMEKyPa"
   },
   "outputs": [],
   "source": [
    "train_X= sequences[:,:-1]\n",
    "train_Y = sequences[:,-1]"
   ]
  },
  {
   "cell_type": "code",
   "execution_count": 21,
   "metadata": {
    "colab": {
     "autoexec": {
      "startup": false,
      "wait_interval": 0
     }
    },
    "colab_type": "code",
    "id": "H1y6WnbOKyPf"
   },
   "outputs": [],
   "source": [
    "train_Y= train_Y[:,0]"
   ]
  },
  {
   "cell_type": "code",
   "execution_count": 178,
   "metadata": {
    "colab": {
     "autoexec": {
      "startup": false,
      "wait_interval": 0
     },
     "base_uri": "https://localhost:8080/",
     "height": 34,
     "output_extras": [
      {
       "item_id": 1
      }
     ]
    },
    "colab_type": "code",
    "executionInfo": {
     "elapsed": 942,
     "status": "ok",
     "timestamp": 1522578849746,
     "user": {
      "displayName": "Akash Gupta",
      "photoUrl": "//lh4.googleusercontent.com/-lbaoCqdKDCg/AAAAAAAAAAI/AAAAAAAAMhQ/YGRqD6U9Se8/s50-c-k-no/photo.jpg",
      "userId": "111901583339877553911"
     },
     "user_tz": -330
    },
    "id": "FHdF-ZMzKyPp",
    "outputId": "95c51c2a-0278-48c9-ab55-d9fabe1ec1fa"
   },
   "outputs": [
    {
     "data": {
      "text/plain": [
       "(151470, 19, 4)"
      ]
     },
     "execution_count": 178,
     "metadata": {
      "tags": []
     },
     "output_type": "execute_result"
    }
   ],
   "source": [
    "train_X.shape"
   ]
  },
  {
   "cell_type": "code",
   "execution_count": 22,
   "metadata": {
    "colab": {
     "autoexec": {
      "startup": false,
      "wait_interval": 0
     }
    },
    "colab_type": "code",
    "id": "y5dWrSNTKyQF"
   },
   "outputs": [],
   "source": [
    "class RocAucEvaluation(Callback):\n",
    "    def __init__(self, validation_data=(), interval=1):\n",
    "        super(Callback, self).__init__()\n",
    "\n",
    "        self.interval = interval\n",
    "        self.X_val, self.y_val = validation_data\n",
    "\n",
    "    def on_epoch_end(self, epoch, logs={}):\n",
    "        if epoch % self.interval == 0:\n",
    "            y_pred = self.model.predict(self.X_val, verbose=0)\n",
    "            score = roc_auc_score(self.y_val, y_pred)\n",
    "            print(\"\\n ROC-AUC - epoch: {:d} - score: {:.6f}\".format(epoch+1, score))"
   ]
  },
  {
   "cell_type": "code",
   "execution_count": 30,
   "metadata": {
    "colab": {
     "autoexec": {
      "startup": false,
      "wait_interval": 0
     },
     "base_uri": "https://localhost:8080/",
     "height": 68,
     "output_extras": [
      {
       "item_id": 1
      }
     ]
    },
    "colab_type": "code",
    "executionInfo": {
     "elapsed": 1548,
     "status": "ok",
     "timestamp": 1522578889874,
     "user": {
      "displayName": "Akash Gupta",
      "photoUrl": "//lh4.googleusercontent.com/-lbaoCqdKDCg/AAAAAAAAAAI/AAAAAAAAMhQ/YGRqD6U9Se8/s50-c-k-no/photo.jpg",
      "userId": "111901583339877553911"
     },
     "user_tz": -330
    },
    "id": "fI7EvwzDKyQJ",
    "outputId": "454141ff-322d-4772-a400-f695edd49542"
   },
   "outputs": [
    {
     "name": "stdout",
     "output_type": "stream",
     "text": [
      "(None, 100)\n",
      "(None, 100)\n",
      "(None, 1)\n"
     ]
    }
   ],
   "source": [
    "\n",
    "# define nn model\n",
    "# emdedding_size=500\n",
    "# vocab_size=5502\n",
    "keras_model2 = Sequential()\n",
    "keras_model2.add(Masking(mask_value=-1. ,input_shape=(None,2)))\n",
    "# keras_model2.add(Embedding(input_dim=vocab_size, output_dim=emdedding_size, \n",
    "#                     weights=[pretrained_weights]))\n",
    "# keras_model2/.add(LSTM(units=100,return_sequences=True))\n",
    "# keras_model2.add(Conv1D(64, kernel_size = 3, padding = \"valid\", kernel_initializer = \"glorot_uniform\",input_shape=(None,4)))\n",
    "# keras_model2.add(MaxPooling1D())\n",
    "# print keras_model2.output_shape\n",
    "# keras_model2.add(Conv1D(300, 3, padding='valid',activation='relu',strides=1 ,input_shape=(None,4)))\n",
    "# keras_model2.add(Conv1D(150, 3, padding='valid',activation='relu',strides=2))\n",
    "# keras_model2.add(Conv1D(75, 3, padding='valid',activation='relu',strides=2))\n",
    "# keras_model2.add(Flatten())\n",
    "# keras_model2.add(Dropout(0.2))\n",
    "# model.add(Dense(150,activation='sigmoid'))\n",
    "# model.add(Dropout(0.2))\n",
    "# keras_model2.add(Conv1D(100,\n",
    "#                  3,\n",
    "#                  padding='valid',\n",
    "#                  activation='relu',\n",
    "#                  strides=1,input_shape=(None,4)))\n",
    "# we use max pooling:\n",
    "# keras_model2.add(GlobalMaxPooling1D())\n",
    "keras_model2.add((LSTM(units=100,return_sequences=False,recurrent_dropout=0.2)))\n",
    "# keras_model2.add((GRU(units=100,return_sequences=False,recurrent_dropout=0.2)))\n",
    "# keras_model2.add(Conv1D(300, 3, padding='valid',activation='relu',strides=2 ,input_shape=(None,4)))\n",
    "# keras_model2.add(Conv1D(150, 3, padding='valid',activation='relu',strides=2))\n",
    "# keras_model2.add(Conv1D(75, 3, padding='valid',activation='relu',strides=2))\n",
    "# keras_model2.add(Flatten())\n",
    "print keras_model2.output_shape\n",
    "# keras_model2.add(Conv1D(32, kernel_size = 3, padding = \"valid\", kernel_initializer = \"glorot_uniform\"))\n",
    "# print keras_model2.output_shape\n",
    "# keras_model2.add(GlobalMaxPooling1D())\n",
    "print keras_model2.output_shape\n",
    "\n",
    "# keras_model2.add(Dropout(0.2))\n",
    "# keras_model2.add(LSTM(units=500,return_sequences=False))\n",
    "keras_model2.add(Dense(units=50))\n",
    "keras_model2.add(Dropout(0.2))\n",
    "keras_model2.add(Dense(units=10))\n",
    "keras_model2.add(Dropout(0.2))\n",
    "# keras_model2.add(Dense(units=5))\n",
    "# keras_model2.add(Dropout(0.2))\n",
    "\n",
    "keras_model2.add(Dense(units=1))\n",
    "print keras_model2.output_shape\n",
    "keras_model2.add(Activation('sigmoid'))\n",
    "keras_model2.compile(optimizer='Adamax', loss='binary_crossentropy',metrics=['accuracy','mse'])"
   ]
  },
  {
   "cell_type": "code",
   "execution_count": 31,
   "metadata": {
    "colab": {
     "autoexec": {
      "startup": false,
      "wait_interval": 0
     }
    },
    "colab_type": "code",
    "id": "WRgCCoQ3fohC"
   },
   "outputs": [],
   "source": [
    "# train_X=np.concatenate((np.ones_like(train_X[:,0]).reshape(train_X.shape[0],-1,4)*-1,train_X),axis=1)"
   ]
  },
  {
   "cell_type": "code",
   "execution_count": 32,
   "metadata": {
    "colab": {
     "autoexec": {
      "startup": false,
      "wait_interval": 0
     }
    },
    "colab_type": "code",
    "id": "mVEm8KAfKyQR"
   },
   "outputs": [],
   "source": [
    "xtrain, xval, ytrain, yval = train_test_split(train_X, train_Y, test_size=0.1, random_state=7)"
   ]
  },
  {
   "cell_type": "code",
   "execution_count": 33,
   "metadata": {
    "colab": {
     "autoexec": {
      "startup": false,
      "wait_interval": 0
     },
     "base_uri": "https://localhost:8080/",
     "height": 34,
     "output_extras": [
      {
       "item_id": 1
      }
     ]
    },
    "colab_type": "code",
    "executionInfo": {
     "elapsed": 1575,
     "status": "ok",
     "timestamp": 1522578897238,
     "user": {
      "displayName": "Akash Gupta",
      "photoUrl": "//lh4.googleusercontent.com/-lbaoCqdKDCg/AAAAAAAAAAI/AAAAAAAAMhQ/YGRqD6U9Se8/s50-c-k-no/photo.jpg",
      "userId": "111901583339877553911"
     },
     "user_tz": -330
    },
    "id": "NbQi0fReKyQc",
    "outputId": "0b85153a-b365-4b5f-f093-f63a2077cc91"
   },
   "outputs": [
    {
     "data": {
      "text/plain": [
       "((151470, 19, 2), (136323, 19, 2), (15147, 19, 2))"
      ]
     },
     "execution_count": 33,
     "metadata": {},
     "output_type": "execute_result"
    }
   ],
   "source": [
    "train_X.shape, xtrain.shape, xval.shape"
   ]
  },
  {
   "cell_type": "code",
   "execution_count": 34,
   "metadata": {
    "colab": {
     "autoexec": {
      "startup": false,
      "wait_interval": 0
     }
    },
    "colab_type": "code",
    "id": "7efnrfCLKyQi"
   },
   "outputs": [],
   "source": [
    "# filepath=\"../input/best-model/best.hdf5\"\n",
    "import pickle\n",
    "filename_m= 'lstm_'\n",
    "pickle.dump(keras_model2.to_json(),open(filename_m+'.pkl','w'))\n",
    "filepath=filename_m+\"weights-improvement-{epoch:02d}-{val_acc:.2f}.hdf5\"\n",
    "checkpoint = ModelCheckpoint(filepath, monitor='val_acc', verbose=1, save_best_only=False, mode='max')\n",
    "ra_val = RocAucEvaluation(validation_data=(xval, yval), interval = 1)\n",
    "callbacks_list = [checkpoint,ra_val]"
   ]
  },
  {
   "cell_type": "code",
   "execution_count": 36,
   "metadata": {
    "colab": {
     "autoexec": {
      "startup": false,
      "wait_interval": 0
     },
     "base_uri": "https://localhost:8080/",
     "height": 34,
     "output_extras": [
      {
       "item_id": 1
      }
     ]
    },
    "colab_type": "code",
    "executionInfo": {
     "elapsed": 950,
     "status": "ok",
     "timestamp": 1522578912424,
     "user": {
      "displayName": "Akash Gupta",
      "photoUrl": "//lh4.googleusercontent.com/-lbaoCqdKDCg/AAAAAAAAAAI/AAAAAAAAMhQ/YGRqD6U9Se8/s50-c-k-no/photo.jpg",
      "userId": "111901583339877553911"
     },
     "user_tz": -330
    },
    "id": "NE51h98Q1Unz",
    "outputId": "59ed1c69-b698-4d2c-d5d1-0d0f8c8ed41c"
   },
   "outputs": [
    {
     "data": {
      "text/plain": [
       "(136323, 19, 2)"
      ]
     },
     "execution_count": 36,
     "metadata": {},
     "output_type": "execute_result"
    }
   ],
   "source": [
    "xtrain.shape"
   ]
  },
  {
   "cell_type": "code",
   "execution_count": 37,
   "metadata": {
    "colab": {
     "autoexec": {
      "startup": false,
      "wait_interval": 0
     },
     "base_uri": "https://localhost:8080/",
     "height": 10271,
     "output_extras": [
      {
       "item_id": 21
      },
      {
       "item_id": 40
      },
      {
       "item_id": 57
      },
      {
       "item_id": 76
      },
      {
       "item_id": 94
      },
      {
       "item_id": 112
      },
      {
       "item_id": 130
      },
      {
       "item_id": 146
      },
      {
       "item_id": 164
      },
      {
       "item_id": 182
      },
      {
       "item_id": 201
      },
      {
       "item_id": 220
      },
      {
       "item_id": 239
      },
      {
       "item_id": 258
      },
      {
       "item_id": 274
      },
      {
       "item_id": 292
      },
      {
       "item_id": 311
      },
      {
       "item_id": 331
      },
      {
       "item_id": 349
      },
      {
       "item_id": 365
      },
      {
       "item_id": 366
      }
     ]
    },
    "colab_type": "code",
    "executionInfo": {
     "elapsed": 174954,
     "status": "ok",
     "timestamp": 1522579089258,
     "user": {
      "displayName": "Akash Gupta",
      "photoUrl": "//lh4.googleusercontent.com/-lbaoCqdKDCg/AAAAAAAAAAI/AAAAAAAAMhQ/YGRqD6U9Se8/s50-c-k-no/photo.jpg",
      "userId": "111901583339877553911"
     },
     "user_tz": -330
    },
    "id": "xThDJdWpKyQm",
    "outputId": "9fba9908-8f87-416c-b456-834cd6046ccb"
   },
   "outputs": [
    {
     "name": "stdout",
     "output_type": "stream",
     "text": [
      "Train on 136323 samples, validate on 15147 samples\n",
      "Epoch 1/29\n",
      "136192/136323 [============================>.] - ETA: 0s - loss: 0.1349 - acc: 0.9877 - mean_squared_error: 0.0282Epoch 00000: saving model to lstm_weights-improvement-00-0.99.hdf5\n",
      "\n",
      " ROC-AUC - epoch: 1 - score: 0.659234\n",
      "136323/136323 [==============================] - 56s - loss: 0.1348 - acc: 0.9877 - mean_squared_error: 0.0282 - val_loss: 0.0660 - val_acc: 0.9877 - val_mean_squared_error: 0.0121\n",
      "Epoch 2/29\n",
      "136192/136323 [============================>.] - ETA: 0s - loss: 0.0688 - acc: 0.9879 - mean_squared_error: 0.0123Epoch 00001: saving model to lstm_weights-improvement-01-0.99.hdf5\n",
      "\n",
      " ROC-AUC - epoch: 2 - score: 0.682699\n",
      "136323/136323 [==============================] - 56s - loss: 0.0688 - acc: 0.9879 - mean_squared_error: 0.0123 - val_loss: 0.0628 - val_acc: 0.9878 - val_mean_squared_error: 0.0118\n",
      "Epoch 3/29\n",
      "136192/136323 [============================>.] - ETA: 0s - loss: 0.0665 - acc: 0.9879 - mean_squared_error: 0.0120Epoch 00002: saving model to lstm_weights-improvement-02-0.99.hdf5\n",
      "\n",
      " ROC-AUC - epoch: 3 - score: 0.686368\n",
      "136323/136323 [==============================] - 63s - loss: 0.0665 - acc: 0.9879 - mean_squared_error: 0.0121 - val_loss: 0.0621 - val_acc: 0.9877 - val_mean_squared_error: 0.0118\n",
      "Epoch 4/29\n",
      "136192/136323 [============================>.] - ETA: 0s - loss: 0.0662 - acc: 0.9879 - mean_squared_error: 0.0120Epoch 00003: saving model to lstm_weights-improvement-03-0.99.hdf5\n",
      "\n",
      " ROC-AUC - epoch: 4 - score: 0.692630\n",
      "136323/136323 [==============================] - 68s - loss: 0.0661 - acc: 0.9879 - mean_squared_error: 0.0120 - val_loss: 0.0620 - val_acc: 0.9878 - val_mean_squared_error: 0.0118\n",
      "Epoch 5/29\n",
      "136192/136323 [============================>.] - ETA: 0s - loss: 0.0652 - acc: 0.9879 - mean_squared_error: 0.0119Epoch 00004: saving model to lstm_weights-improvement-04-0.99.hdf5\n",
      "\n",
      " ROC-AUC - epoch: 5 - score: 0.695415\n",
      "136323/136323 [==============================] - 70s - loss: 0.0651 - acc: 0.9879 - mean_squared_error: 0.0119 - val_loss: 0.0616 - val_acc: 0.9878 - val_mean_squared_error: 0.0117\n",
      "Epoch 6/29\n",
      "136192/136323 [============================>.] - ETA: 0s - loss: 0.0650 - acc: 0.9879 - mean_squared_error: 0.0119Epoch 00005: saving model to lstm_weights-improvement-05-0.99.hdf5\n",
      "\n",
      " ROC-AUC - epoch: 6 - score: 0.693722\n",
      "136323/136323 [==============================] - 69s - loss: 0.0649 - acc: 0.9879 - mean_squared_error: 0.0119 - val_loss: 0.0616 - val_acc: 0.9877 - val_mean_squared_error: 0.0117\n",
      "Epoch 7/29\n",
      "136192/136323 [============================>.] - ETA: 0s - loss: 0.0650 - acc: 0.9879 - mean_squared_error: 0.0119Epoch 00006: saving model to lstm_weights-improvement-06-0.99.hdf5\n",
      "\n",
      " ROC-AUC - epoch: 7 - score: 0.693162\n",
      "136323/136323 [==============================] - 70s - loss: 0.0650 - acc: 0.9879 - mean_squared_error: 0.0119 - val_loss: 0.0615 - val_acc: 0.9877 - val_mean_squared_error: 0.0117\n",
      "Epoch 8/29\n",
      "136192/136323 [============================>.] - ETA: 0s - loss: 0.0648 - acc: 0.9879 - mean_squared_error: 0.0119Epoch 00007: saving model to lstm_weights-improvement-07-0.99.hdf5\n",
      "\n",
      " ROC-AUC - epoch: 8 - score: 0.695473\n",
      "136323/136323 [==============================] - 83s - loss: 0.0647 - acc: 0.9879 - mean_squared_error: 0.0119 - val_loss: 0.0616 - val_acc: 0.9877 - val_mean_squared_error: 0.0118\n",
      "Epoch 9/29\n",
      "136192/136323 [============================>.] - ETA: 0s - loss: 0.0645 - acc: 0.9879 - mean_squared_error: 0.0119Epoch 00008: saving model to lstm_weights-improvement-08-0.99.hdf5\n",
      "\n",
      " ROC-AUC - epoch: 9 - score: 0.698414\n",
      "136323/136323 [==============================] - 92s - loss: 0.0645 - acc: 0.9879 - mean_squared_error: 0.0119 - val_loss: 0.0614 - val_acc: 0.9877 - val_mean_squared_error: 0.0117\n",
      "Epoch 10/29\n",
      "136192/136323 [============================>.] - ETA: 0s - loss: 0.0641 - acc: 0.9879 - mean_squared_error: 0.0119Epoch 00009: saving model to lstm_weights-improvement-09-0.99.hdf5\n",
      "\n",
      " ROC-AUC - epoch: 10 - score: 0.694242\n",
      "136323/136323 [==============================] - 83s - loss: 0.0641 - acc: 0.9880 - mean_squared_error: 0.0119 - val_loss: 0.0621 - val_acc: 0.9877 - val_mean_squared_error: 0.0118\n",
      "Epoch 11/29\n",
      "136192/136323 [============================>.] - ETA: 0s - loss: 0.0645 - acc: 0.9880 - mean_squared_error: 0.0119Epoch 00010: saving model to lstm_weights-improvement-10-0.99.hdf5\n",
      "\n",
      " ROC-AUC - epoch: 11 - score: 0.698928\n",
      "136323/136323 [==============================] - 92s - loss: 0.0645 - acc: 0.9880 - mean_squared_error: 0.0119 - val_loss: 0.0616 - val_acc: 0.9877 - val_mean_squared_error: 0.0118\n",
      "Epoch 12/29\n",
      "136192/136323 [============================>.] - ETA: 0s - loss: 0.0644 - acc: 0.9880 - mean_squared_error: 0.0119Epoch 00011: saving model to lstm_weights-improvement-11-0.99.hdf5\n",
      "\n",
      " ROC-AUC - epoch: 12 - score: 0.695850\n",
      "136323/136323 [==============================] - 103s - loss: 0.0644 - acc: 0.9880 - mean_squared_error: 0.0119 - val_loss: 0.0618 - val_acc: 0.9877 - val_mean_squared_error: 0.0118\n",
      "Epoch 13/29\n",
      "136192/136323 [============================>.] - ETA: 0s - loss: 0.0646 - acc: 0.9879 - mean_squared_error: 0.0119"
     ]
    },
    {
     "ename": "KeyboardInterrupt",
     "evalue": "",
     "output_type": "error",
     "traceback": [
      "\u001b[0;31m---------------------------------------------------------------------------\u001b[0m",
      "\u001b[0;31mKeyboardInterrupt\u001b[0m                         Traceback (most recent call last)",
      "\u001b[0;32m<ipython-input-37-c6374cdfc7f9>\u001b[0m in \u001b[0;36m<module>\u001b[0;34m()\u001b[0m\n\u001b[1;32m      1\u001b[0m keras_model2.fit(xtrain,ytrain, epochs=29, validation_data=(xval,yval),\n\u001b[0;32m----> 2\u001b[0;31m           batch_size=1024, callbacks = callbacks_list,verbose=1)\n\u001b[0m",
      "\u001b[0;32m/usr/local/lib/python2.7/site-packages/keras/models.pyc\u001b[0m in \u001b[0;36mfit\u001b[0;34m(self, x, y, batch_size, epochs, verbose, callbacks, validation_split, validation_data, shuffle, class_weight, sample_weight, initial_epoch, **kwargs)\u001b[0m\n\u001b[1;32m    865\u001b[0m                               \u001b[0mclass_weight\u001b[0m\u001b[0;34m=\u001b[0m\u001b[0mclass_weight\u001b[0m\u001b[0;34m,\u001b[0m\u001b[0;34m\u001b[0m\u001b[0m\n\u001b[1;32m    866\u001b[0m                               \u001b[0msample_weight\u001b[0m\u001b[0;34m=\u001b[0m\u001b[0msample_weight\u001b[0m\u001b[0;34m,\u001b[0m\u001b[0;34m\u001b[0m\u001b[0m\n\u001b[0;32m--> 867\u001b[0;31m                               initial_epoch=initial_epoch)\n\u001b[0m\u001b[1;32m    868\u001b[0m \u001b[0;34m\u001b[0m\u001b[0m\n\u001b[1;32m    869\u001b[0m     def evaluate(self, x, y, batch_size=32, verbose=1,\n",
      "\u001b[0;32m/usr/local/lib/python2.7/site-packages/keras/engine/training.pyc\u001b[0m in \u001b[0;36mfit\u001b[0;34m(self, x, y, batch_size, epochs, verbose, callbacks, validation_split, validation_data, shuffle, class_weight, sample_weight, initial_epoch, steps_per_epoch, validation_steps, **kwargs)\u001b[0m\n\u001b[1;32m   1596\u001b[0m                               \u001b[0minitial_epoch\u001b[0m\u001b[0;34m=\u001b[0m\u001b[0minitial_epoch\u001b[0m\u001b[0;34m,\u001b[0m\u001b[0;34m\u001b[0m\u001b[0m\n\u001b[1;32m   1597\u001b[0m                               \u001b[0msteps_per_epoch\u001b[0m\u001b[0;34m=\u001b[0m\u001b[0msteps_per_epoch\u001b[0m\u001b[0;34m,\u001b[0m\u001b[0;34m\u001b[0m\u001b[0m\n\u001b[0;32m-> 1598\u001b[0;31m                               validation_steps=validation_steps)\n\u001b[0m\u001b[1;32m   1599\u001b[0m \u001b[0;34m\u001b[0m\u001b[0m\n\u001b[1;32m   1600\u001b[0m     def evaluate(self, x, y,\n",
      "\u001b[0;32m/usr/local/lib/python2.7/site-packages/keras/engine/training.pyc\u001b[0m in \u001b[0;36m_fit_loop\u001b[0;34m(self, f, ins, out_labels, batch_size, epochs, verbose, callbacks, val_f, val_ins, shuffle, callback_metrics, initial_epoch, steps_per_epoch, validation_steps)\u001b[0m\n\u001b[1;32m   1195\u001b[0m                             val_outs = self._test_loop(val_f, val_ins,\n\u001b[1;32m   1196\u001b[0m                                                        \u001b[0mbatch_size\u001b[0m\u001b[0;34m=\u001b[0m\u001b[0mbatch_size\u001b[0m\u001b[0;34m,\u001b[0m\u001b[0;34m\u001b[0m\u001b[0m\n\u001b[0;32m-> 1197\u001b[0;31m                                                        verbose=0)\n\u001b[0m\u001b[1;32m   1198\u001b[0m                             \u001b[0;32mif\u001b[0m \u001b[0;32mnot\u001b[0m \u001b[0misinstance\u001b[0m\u001b[0;34m(\u001b[0m\u001b[0mval_outs\u001b[0m\u001b[0;34m,\u001b[0m \u001b[0mlist\u001b[0m\u001b[0;34m)\u001b[0m\u001b[0;34m:\u001b[0m\u001b[0;34m\u001b[0m\u001b[0m\n\u001b[1;32m   1199\u001b[0m                                 \u001b[0mval_outs\u001b[0m \u001b[0;34m=\u001b[0m \u001b[0;34m[\u001b[0m\u001b[0mval_outs\u001b[0m\u001b[0;34m]\u001b[0m\u001b[0;34m\u001b[0m\u001b[0m\n",
      "\u001b[0;32m/usr/local/lib/python2.7/site-packages/keras/engine/training.pyc\u001b[0m in \u001b[0;36m_test_loop\u001b[0;34m(self, f, ins, batch_size, verbose, steps)\u001b[0m\n\u001b[1;32m   1337\u001b[0m                     \u001b[0mins_batch\u001b[0m \u001b[0;34m=\u001b[0m \u001b[0m_slice_arrays\u001b[0m\u001b[0;34m(\u001b[0m\u001b[0mins\u001b[0m\u001b[0;34m,\u001b[0m \u001b[0mbatch_ids\u001b[0m\u001b[0;34m)\u001b[0m\u001b[0;34m\u001b[0m\u001b[0m\n\u001b[1;32m   1338\u001b[0m \u001b[0;34m\u001b[0m\u001b[0m\n\u001b[0;32m-> 1339\u001b[0;31m                 \u001b[0mbatch_outs\u001b[0m \u001b[0;34m=\u001b[0m \u001b[0mf\u001b[0m\u001b[0;34m(\u001b[0m\u001b[0mins_batch\u001b[0m\u001b[0;34m)\u001b[0m\u001b[0;34m\u001b[0m\u001b[0m\n\u001b[0m\u001b[1;32m   1340\u001b[0m                 \u001b[0;32mif\u001b[0m \u001b[0misinstance\u001b[0m\u001b[0;34m(\u001b[0m\u001b[0mbatch_outs\u001b[0m\u001b[0;34m,\u001b[0m \u001b[0mlist\u001b[0m\u001b[0;34m)\u001b[0m\u001b[0;34m:\u001b[0m\u001b[0;34m\u001b[0m\u001b[0m\n\u001b[1;32m   1341\u001b[0m                     \u001b[0;32mif\u001b[0m \u001b[0mbatch_index\u001b[0m \u001b[0;34m==\u001b[0m \u001b[0;36m0\u001b[0m\u001b[0;34m:\u001b[0m\u001b[0;34m\u001b[0m\u001b[0m\n",
      "\u001b[0;32m/usr/local/lib/python2.7/site-packages/keras/backend/tensorflow_backend.pyc\u001b[0m in \u001b[0;36m__call__\u001b[0;34m(self, inputs)\u001b[0m\n\u001b[1;32m   2271\u001b[0m         updated = session.run(self.outputs + [self.updates_op],\n\u001b[1;32m   2272\u001b[0m                               \u001b[0mfeed_dict\u001b[0m\u001b[0;34m=\u001b[0m\u001b[0mfeed_dict\u001b[0m\u001b[0;34m,\u001b[0m\u001b[0;34m\u001b[0m\u001b[0m\n\u001b[0;32m-> 2273\u001b[0;31m                               **self.session_kwargs)\n\u001b[0m\u001b[1;32m   2274\u001b[0m         \u001b[0;32mreturn\u001b[0m \u001b[0mupdated\u001b[0m\u001b[0;34m[\u001b[0m\u001b[0;34m:\u001b[0m\u001b[0mlen\u001b[0m\u001b[0;34m(\u001b[0m\u001b[0mself\u001b[0m\u001b[0;34m.\u001b[0m\u001b[0moutputs\u001b[0m\u001b[0;34m)\u001b[0m\u001b[0;34m]\u001b[0m\u001b[0;34m\u001b[0m\u001b[0m\n\u001b[1;32m   2275\u001b[0m \u001b[0;34m\u001b[0m\u001b[0m\n",
      "\u001b[0;32m/usr/local/lib/python2.7/site-packages/tensorflow/python/client/session.pyc\u001b[0m in \u001b[0;36mrun\u001b[0;34m(self, fetches, feed_dict, options, run_metadata)\u001b[0m\n\u001b[1;32m    893\u001b[0m     \u001b[0;32mtry\u001b[0m\u001b[0;34m:\u001b[0m\u001b[0;34m\u001b[0m\u001b[0m\n\u001b[1;32m    894\u001b[0m       result = self._run(None, fetches, feed_dict, options_ptr,\n\u001b[0;32m--> 895\u001b[0;31m                          run_metadata_ptr)\n\u001b[0m\u001b[1;32m    896\u001b[0m       \u001b[0;32mif\u001b[0m \u001b[0mrun_metadata\u001b[0m\u001b[0;34m:\u001b[0m\u001b[0;34m\u001b[0m\u001b[0m\n\u001b[1;32m    897\u001b[0m         \u001b[0mproto_data\u001b[0m \u001b[0;34m=\u001b[0m \u001b[0mtf_session\u001b[0m\u001b[0;34m.\u001b[0m\u001b[0mTF_GetBuffer\u001b[0m\u001b[0;34m(\u001b[0m\u001b[0mrun_metadata_ptr\u001b[0m\u001b[0;34m)\u001b[0m\u001b[0;34m\u001b[0m\u001b[0m\n",
      "\u001b[0;32m/usr/local/lib/python2.7/site-packages/tensorflow/python/client/session.pyc\u001b[0m in \u001b[0;36m_run\u001b[0;34m(self, handle, fetches, feed_dict, options, run_metadata)\u001b[0m\n\u001b[1;32m   1122\u001b[0m     \u001b[0;32mif\u001b[0m \u001b[0mfinal_fetches\u001b[0m \u001b[0;32mor\u001b[0m \u001b[0mfinal_targets\u001b[0m \u001b[0;32mor\u001b[0m \u001b[0;34m(\u001b[0m\u001b[0mhandle\u001b[0m \u001b[0;32mand\u001b[0m \u001b[0mfeed_dict_tensor\u001b[0m\u001b[0;34m)\u001b[0m\u001b[0;34m:\u001b[0m\u001b[0;34m\u001b[0m\u001b[0m\n\u001b[1;32m   1123\u001b[0m       results = self._do_run(handle, final_targets, final_fetches,\n\u001b[0;32m-> 1124\u001b[0;31m                              feed_dict_tensor, options, run_metadata)\n\u001b[0m\u001b[1;32m   1125\u001b[0m     \u001b[0;32melse\u001b[0m\u001b[0;34m:\u001b[0m\u001b[0;34m\u001b[0m\u001b[0m\n\u001b[1;32m   1126\u001b[0m       \u001b[0mresults\u001b[0m \u001b[0;34m=\u001b[0m \u001b[0;34m[\u001b[0m\u001b[0;34m]\u001b[0m\u001b[0;34m\u001b[0m\u001b[0m\n",
      "\u001b[0;32m/usr/local/lib/python2.7/site-packages/tensorflow/python/client/session.pyc\u001b[0m in \u001b[0;36m_do_run\u001b[0;34m(self, handle, target_list, fetch_list, feed_dict, options, run_metadata)\u001b[0m\n\u001b[1;32m   1319\u001b[0m     \u001b[0;32mif\u001b[0m \u001b[0mhandle\u001b[0m \u001b[0;32mis\u001b[0m \u001b[0mNone\u001b[0m\u001b[0;34m:\u001b[0m\u001b[0;34m\u001b[0m\u001b[0m\n\u001b[1;32m   1320\u001b[0m       return self._do_call(_run_fn, self._session, feeds, fetches, targets,\n\u001b[0;32m-> 1321\u001b[0;31m                            options, run_metadata)\n\u001b[0m\u001b[1;32m   1322\u001b[0m     \u001b[0;32melse\u001b[0m\u001b[0;34m:\u001b[0m\u001b[0;34m\u001b[0m\u001b[0m\n\u001b[1;32m   1323\u001b[0m       \u001b[0;32mreturn\u001b[0m \u001b[0mself\u001b[0m\u001b[0;34m.\u001b[0m\u001b[0m_do_call\u001b[0m\u001b[0;34m(\u001b[0m\u001b[0m_prun_fn\u001b[0m\u001b[0;34m,\u001b[0m \u001b[0mself\u001b[0m\u001b[0;34m.\u001b[0m\u001b[0m_session\u001b[0m\u001b[0;34m,\u001b[0m \u001b[0mhandle\u001b[0m\u001b[0;34m,\u001b[0m \u001b[0mfeeds\u001b[0m\u001b[0;34m,\u001b[0m \u001b[0mfetches\u001b[0m\u001b[0;34m)\u001b[0m\u001b[0;34m\u001b[0m\u001b[0m\n",
      "\u001b[0;32m/usr/local/lib/python2.7/site-packages/tensorflow/python/client/session.pyc\u001b[0m in \u001b[0;36m_do_call\u001b[0;34m(self, fn, *args)\u001b[0m\n\u001b[1;32m   1325\u001b[0m   \u001b[0;32mdef\u001b[0m \u001b[0m_do_call\u001b[0m\u001b[0;34m(\u001b[0m\u001b[0mself\u001b[0m\u001b[0;34m,\u001b[0m \u001b[0mfn\u001b[0m\u001b[0;34m,\u001b[0m \u001b[0;34m*\u001b[0m\u001b[0margs\u001b[0m\u001b[0;34m)\u001b[0m\u001b[0;34m:\u001b[0m\u001b[0;34m\u001b[0m\u001b[0m\n\u001b[1;32m   1326\u001b[0m     \u001b[0;32mtry\u001b[0m\u001b[0;34m:\u001b[0m\u001b[0;34m\u001b[0m\u001b[0m\n\u001b[0;32m-> 1327\u001b[0;31m       \u001b[0;32mreturn\u001b[0m \u001b[0mfn\u001b[0m\u001b[0;34m(\u001b[0m\u001b[0;34m*\u001b[0m\u001b[0margs\u001b[0m\u001b[0;34m)\u001b[0m\u001b[0;34m\u001b[0m\u001b[0m\n\u001b[0m\u001b[1;32m   1328\u001b[0m     \u001b[0;32mexcept\u001b[0m \u001b[0merrors\u001b[0m\u001b[0;34m.\u001b[0m\u001b[0mOpError\u001b[0m \u001b[0;32mas\u001b[0m \u001b[0me\u001b[0m\u001b[0;34m:\u001b[0m\u001b[0;34m\u001b[0m\u001b[0m\n\u001b[1;32m   1329\u001b[0m       \u001b[0mmessage\u001b[0m \u001b[0;34m=\u001b[0m \u001b[0mcompat\u001b[0m\u001b[0;34m.\u001b[0m\u001b[0mas_text\u001b[0m\u001b[0;34m(\u001b[0m\u001b[0me\u001b[0m\u001b[0;34m.\u001b[0m\u001b[0mmessage\u001b[0m\u001b[0;34m)\u001b[0m\u001b[0;34m\u001b[0m\u001b[0m\n",
      "\u001b[0;32m/usr/local/lib/python2.7/site-packages/tensorflow/python/client/session.pyc\u001b[0m in \u001b[0;36m_run_fn\u001b[0;34m(session, feed_dict, fetch_list, target_list, options, run_metadata)\u001b[0m\n\u001b[1;32m   1304\u001b[0m           return tf_session.TF_Run(session, options,\n\u001b[1;32m   1305\u001b[0m                                    \u001b[0mfeed_dict\u001b[0m\u001b[0;34m,\u001b[0m \u001b[0mfetch_list\u001b[0m\u001b[0;34m,\u001b[0m \u001b[0mtarget_list\u001b[0m\u001b[0;34m,\u001b[0m\u001b[0;34m\u001b[0m\u001b[0m\n\u001b[0;32m-> 1306\u001b[0;31m                                    status, run_metadata)\n\u001b[0m\u001b[1;32m   1307\u001b[0m \u001b[0;34m\u001b[0m\u001b[0m\n\u001b[1;32m   1308\u001b[0m     \u001b[0;32mdef\u001b[0m \u001b[0m_prun_fn\u001b[0m\u001b[0;34m(\u001b[0m\u001b[0msession\u001b[0m\u001b[0;34m,\u001b[0m \u001b[0mhandle\u001b[0m\u001b[0;34m,\u001b[0m \u001b[0mfeed_dict\u001b[0m\u001b[0;34m,\u001b[0m \u001b[0mfetch_list\u001b[0m\u001b[0;34m)\u001b[0m\u001b[0;34m:\u001b[0m\u001b[0;34m\u001b[0m\u001b[0m\n",
      "\u001b[0;31mKeyboardInterrupt\u001b[0m: "
     ]
    }
   ],
   "source": [
    "keras_model2.fit(xtrain,ytrain, epochs=29, validation_data=(xval,yval),\n",
    "          batch_size=1024, callbacks = callbacks_list,verbose=1)"
   ]
  },
  {
   "cell_type": "code",
   "execution_count": 29,
   "metadata": {
    "colab": {
     "autoexec": {
      "startup": false,
      "wait_interval": 0
     }
    },
    "colab_type": "code",
    "id": "e4z-mBLPKyQq"
   },
   "outputs": [],
   "source": [
    "  from keras.models import model_from_json\n",
    "# keras_model2= model_from_json(pickle.load(open('lstm2fea100.pkl')))\n",
    "# keras_model2.load_weights('weigths/LSTM2feaadamax5010batch1024_recdropweights-improvement-18-0.99.hdf5')"
   ]
  },
  {
   "cell_type": "code",
   "execution_count": 0,
   "metadata": {
    "colab": {
     "autoexec": {
      "startup": false,
      "wait_interval": 0
     }
    },
    "colab_type": "code",
    "id": "xHgiafvmKyRY"
   },
   "outputs": [],
   "source": [
    "nnpred=keras_model2.predict(sequences_ori)"
   ]
  },
  {
   "cell_type": "code",
   "execution_count": 0,
   "metadata": {
    "colab": {
     "autoexec": {
      "startup": false,
      "wait_interval": 0
     }
    },
    "colab_type": "code",
    "id": "hLG63_X1KyRf"
   },
   "outputs": [],
   "source": [
    "snn= sentences.reset_index()"
   ]
  },
  {
   "cell_type": "code",
   "execution_count": 164,
   "metadata": {
    "colab": {
     "autoexec": {
      "startup": false,
      "wait_interval": 0
     },
     "base_uri": "https://localhost:8080/",
     "height": 34,
     "output_extras": [
      {
       "item_id": 1
      }
     ]
    },
    "colab_type": "code",
    "executionInfo": {
     "elapsed": 830,
     "status": "ok",
     "timestamp": 1522578652745,
     "user": {
      "displayName": "Akash Gupta",
      "photoUrl": "//lh4.googleusercontent.com/-lbaoCqdKDCg/AAAAAAAAAAI/AAAAAAAAMhQ/YGRqD6U9Se8/s50-c-k-no/photo.jpg",
      "userId": "111901583339877553911"
     },
     "user_tz": -330
    },
    "id": "ic8PLfrgKyRi",
    "outputId": "2d09df8f-dccd-42d4-db7a-3313b30108b0"
   },
   "outputs": [
    {
     "data": {
      "text/plain": [
       "((168236, 2), (168236, 1), (168236,))"
      ]
     },
     "execution_count": 164,
     "metadata": {
      "tags": []
     },
     "output_type": "execute_result"
    }
   ],
   "source": [
    "snn.shape, nnpred.shape , sentences.shape"
   ]
  },
  {
   "cell_type": "code",
   "execution_count": 0,
   "metadata": {
    "colab": {
     "autoexec": {
      "startup": false,
      "wait_interval": 0
     }
    },
    "colab_type": "code",
    "id": "yEUZfFu2KyRp"
   },
   "outputs": [],
   "source": [
    "snn['pred']= nnpred"
   ]
  },
  {
   "cell_type": "code",
   "execution_count": 0,
   "metadata": {
    "colab": {
     "autoexec": {
      "startup": false,
      "wait_interval": 0
     }
    },
    "colab_type": "code",
    "id": "1Z4rSIt6KyT3"
   },
   "outputs": [],
   "source": [
    "test_df['send_date']= pd.to_datetime(test_df.send_date,format=\"%d-%m-%Y %H:%M\")"
   ]
  },
  {
   "cell_type": "code",
   "execution_count": 0,
   "metadata": {
    "colab": {
     "autoexec": {
      "startup": false,
      "wait_interval": 0
     }
    },
    "colab_type": "code",
    "id": "W9dTls-JKyT-"
   },
   "outputs": [],
   "source": [
    "test_df['send_week']=test_df.send_date.dt.week\n",
    "test_df['send_day']= test_df.send_date.dt.day\n",
    "test_df['send_hour']= test_df.send_date.dt.hour\n",
    "test_df['send_hour']=(test_df.send_hour/6).astype('int')\n",
    "test_df['send_weekday']=test_df.send_date.dt.weekday\n",
    "# pred_nn=test_df.merge(snn,how='left').groupby(['campaign_id','send_weekday']).pred.apply(lambda x: x.fillna(x.mean()))"
   ]
  },
  {
   "cell_type": "code",
   "execution_count": 0,
   "metadata": {
    "colab": {
     "autoexec": {
      "startup": false,
      "wait_interval": 0
     }
    },
    "colab_type": "code",
    "id": "0jz0ZX4FKyRw"
   },
   "outputs": [],
   "source": [
    "pred_nn=test_df.merge(snn,how='left').groupby(['campaign_id','send_weekday',\n",
    "                                               'send_hour']).pred.apply(lambda x: x.fillna((x.quantile(0.9))))"
   ]
  },
  {
   "cell_type": "code",
   "execution_count": 0,
   "metadata": {
    "colab": {
     "autoexec": {
      "startup": false,
      "wait_interval": 0
     }
    },
    "colab_type": "code",
    "id": "3_b70e7aKyR2"
   },
   "outputs": [],
   "source": [
    "submission= pd.read_csv('sample_submission_4fcZwvQ.csv')\n",
    "submission.is_click = pred_nn\n",
    "submission.to_csv('submission_lstm.csv',index=False)"
   ]
  }
 ],
 "metadata": {
  "accelerator": "GPU",
  "colab": {
   "collapsed_sections": [],
   "default_view": {},
   "name": "Copy of Untitled-Copy1.ipynb",
   "provenance": [
    {
     "file_id": "1hznci-bKqi_hiGI3cTFlhZkB4s6fWc1G",
     "timestamp": 1522527298306
    }
   ],
   "version": "0.3.2",
   "views": {}
  },
  "kernelspec": {
   "display_name": "Python 3",
   "language": "python",
   "name": "python3"
  },
  "language_info": {
   "codemirror_mode": {
    "name": "ipython",
    "version": 3
   },
   "file_extension": ".py",
   "mimetype": "text/x-python",
   "name": "python",
   "nbconvert_exporter": "python",
   "pygments_lexer": "ipython3",
   "version": "3.6.4"
  }
 },
 "nbformat": 4,
 "nbformat_minor": 1
}
