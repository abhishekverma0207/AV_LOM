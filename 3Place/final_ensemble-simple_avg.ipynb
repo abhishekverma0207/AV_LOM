{
 "cells": [
  {
   "cell_type": "code",
   "execution_count": 1,
   "metadata": {},
   "outputs": [],
   "source": [
    "import numpy as np\n",
    "import pandas as pd"
   ]
  },
  {
   "cell_type": "code",
   "execution_count": 2,
   "metadata": {},
   "outputs": [],
   "source": [
    "cnnlstm = pd.read_csv('./submission_cnnlstm.csv')\n",
    "cnn = pd.read_csv('./submission_cnn.csv')\n",
    "adamax = pd.read_csv('./submission_lstm.csv')\n",
    "\n",
    "lgbm_nt_45_5f = pd.read_csv('./lgb_5fold-5_bag_nt45_rank_average.csv')\n",
    "lgbm_nt_45_4f = pd.read_csv('./lgb_5fold-5_bag_nt45_rank_average_4f.csv')\n",
    "\n",
    "lgbm_nt_55_5f = pd.read_csv('./lgb_5fold-5_bag_nt55_rank_average_5f.csv')\n",
    "lgbm_nt_55_4f = pd.read_csv('./lgb_5fold-5_bag_nt45_rank_average_4f.csv.')\n",
    "lgbm_nt_55    = pd.read_csv('./lgb_5fold-5_bag_nt55_rank_average.csv')\n",
    "\n",
    "xgb_2f        = pd.read_csv('./xgb_2fold-cv2_bag3_nt70_scalepos1_nt70.csv')"
   ]
  },
  {
   "cell_type": "code",
   "execution_count": 3,
   "metadata": {},
   "outputs": [],
   "source": [
    "subm = xgb_2f.copy()"
   ]
  },
  {
   "cell_type": "code",
   "execution_count": 4,
   "metadata": {},
   "outputs": [],
   "source": [
    "#First ensemble simple rank average of all\n",
    "\n",
    "test_shape0 = xgb_2f.shape[0]\n",
    "subm.loc[:,'is_click'] = (cnn.is_click.rank()/test_shape0 + cnnlstm.is_click.rank()/test_shape0 + adamax.is_click.rank()/test_shape0 +\\\n",
    "lgbm_nt_45_5f.is_click.rank()/test_shape0 + lgbm_nt_45_4f.is_click.rank()/test_shape0 + \\\n",
    "lgbm_nt_55_5f.is_click.rank()/test_shape0 + \\\n",
    "lgbm_nt_55_4f.is_click.rank()/test_shape0 + lgbm_nt_55.is_click.rank()/test_shape0 + \\\n",
    "xgb_2f.is_click.rank()/test_shape0)/9\n"
   ]
  },
  {
   "cell_type": "code",
   "execution_count": 5,
   "metadata": {},
   "outputs": [],
   "source": [
    "subm.to_csv('./fin_ens_rank_average_all.csv',index=False)"
   ]
  },
  {
   "cell_type": "code",
   "execution_count": null,
   "metadata": {},
   "outputs": [],
   "source": []
  }
 ],
 "metadata": {
  "kernelspec": {
   "display_name": "Python 3",
   "language": "python",
   "name": "python3"
  },
  "language_info": {
   "codemirror_mode": {
    "name": "ipython",
    "version": 3
   },
   "file_extension": ".py",
   "mimetype": "text/x-python",
   "name": "python",
   "nbconvert_exporter": "python",
   "pygments_lexer": "ipython3",
   "version": "3.6.4"
  }
 },
 "nbformat": 4,
 "nbformat_minor": 2
}
