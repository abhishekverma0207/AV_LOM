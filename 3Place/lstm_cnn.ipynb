{
 "cells": [
  {
   "cell_type": "code",
   "execution_count": 0,
   "metadata": {
    "colab": {
     "autoexec": {
      "startup": false,
      "wait_interval": 0
     }
    },
    "colab_type": "code",
    "id": "1wB8EOLGKyPE"
   },
   "outputs": [],
   "source": [
    "from keras.models import Sequential\n",
    "from keras.layers.core import Dense, Dropout, Activation\n",
    "from keras.layers import Merge, TimeDistributed, concatenate, Bidirectional, Masking, RepeatVector\n",
    "from keras.layers.embeddings import Embedding\n",
    "from keras.layers.recurrent import LSTM, GRU, SimpleRNN\n",
    "from keras.preprocessing.sequence import pad_sequences\n",
    "from keras.layers.convolutional import Convolution1D, MaxPooling1D\n",
    "from keras.callbacks import Callback\n",
    "from keras.layers import Dense,Input,LSTM,Bidirectional,Activation,Conv1D,GRU, Conv2D\n",
    "from keras.callbacks import Callback, History\n",
    "from keras.layers import Dropout,Embedding,GlobalMaxPooling1D, MaxPooling1D, Add, Flatten\n",
    "from keras.preprocessing import text, sequence\n",
    "from keras.layers import GlobalAveragePooling1D, GlobalMaxPooling1D, concatenate, SpatialDropout1D, Masking\n",
    "from keras import initializers, regularizers, constraints, optimizers, layers, callbacks\n",
    "from keras.callbacks import EarlyStopping,ModelCheckpoint\n",
    "from keras.models import Model\n",
    "from keras.optimizers import Adam\n",
    "from sklearn.model_selection import train_test_split\n",
    "from sklearn.metrics import accuracy_score\n",
    "from sklearn.metrics import roc_auc_score"
   ]
  },
  {
   "cell_type": "code",
   "execution_count": 0,
   "metadata": {
    "colab": {
     "autoexec": {
      "startup": false,
      "wait_interval": 0
     }
    },
    "colab_type": "code",
    "id": "a7YM8iOuKyCU"
   },
   "outputs": [],
   "source": [
    "%matplotlib inline\n",
    "import pandas as pd\n",
    "import numpy as np\n",
    "# import lightgbm as lgb\n",
    "from sklearn.linear_model import LogisticRegression\n",
    "from sklearn.model_selection import train_test_split\n",
    "from sklearn.preprocessing import MaxAbsScaler,MinMaxScaler\n",
    "from sklearn.pipeline import Pipeline\n",
    "import matplotlib.pyplot as plt"
   ]
  },
  {
   "cell_type": "code",
   "execution_count": 0,
   "metadata": {
    "colab": {
     "autoexec": {
      "startup": false,
      "wait_interval": 0
     }
    },
    "colab_type": "code",
    "id": "oa8zhndYKyCa"
   },
   "outputs": [],
   "source": [
    "train= pd.read_csv('train.csv')\n",
    "test= pd.read_csv('test_BDIfz5B.csv')\n",
    "campaign_df= pd.read_csv('campaign_data.csv')"
   ]
  },
  {
   "cell_type": "code",
   "execution_count": 0,
   "metadata": {
    "colab": {
     "autoexec": {
      "startup": false,
      "wait_interval": 0
     }
    },
    "colab_type": "code",
    "id": "BM5dBdV_KyEY"
   },
   "outputs": [],
   "source": [
    "train_df= train.merge(campaign_df,how='left')\n",
    "test_df= test.merge(campaign_df,how='left')"
   ]
  },
  {
   "cell_type": "code",
   "execution_count": 0,
   "metadata": {
    "colab": {
     "autoexec": {
      "startup": false,
      "wait_interval": 0
     }
    },
    "colab_type": "code",
    "id": "IzhZ-LitKyEf"
   },
   "outputs": [],
   "source": [
    "train_df.send_date=pd.to_datetime(train_df.send_date,format=\"%d-%m-%Y %H:%M\")"
   ]
  },
  {
   "cell_type": "code",
   "execution_count": 0,
   "metadata": {
    "colab": {
     "autoexec": {
      "startup": false,
      "wait_interval": 0
     }
    },
    "colab_type": "code",
    "id": "FEYTJLOrKyMb"
   },
   "outputs": [],
   "source": [
    "# Form sentences for clicks per user, open per user, etc\n",
    "sentences=train_df.groupby('user_id').is_click.apply(lambda x: list(x))"
   ]
  },
  {
   "cell_type": "code",
   "execution_count": 0,
   "metadata": {
    "colab": {
     "autoexec": {
      "startup": false,
      "wait_interval": 0
     }
    },
    "colab_type": "code",
    "id": "FjfydUWPKyMl"
   },
   "outputs": [],
   "source": [
    "sentences_open = train_df.groupby('user_id').is_open.apply(lambda x: list(x))"
   ]
  },
  {
   "cell_type": "code",
   "execution_count": 0,
   "metadata": {
    "colab": {
     "autoexec": {
      "startup": false,
      "wait_interval": 0
     }
    },
    "colab_type": "code",
    "id": "onK2KcK1KyNP"
   },
   "outputs": [],
   "source": [
    "train_df['communication_id'],invercom= pd.factorize(train_df.communication_type)"
   ]
  },
  {
   "cell_type": "code",
   "execution_count": 0,
   "metadata": {
    "colab": {
     "autoexec": {
      "startup": false,
      "wait_interval": 0
     }
    },
    "colab_type": "code",
    "id": "m8G_5wGJKyNd"
   },
   "outputs": [],
   "source": [
    "sentences_sec = train_df.groupby('user_id').no_of_sections.apply(lambda x: list(x))"
   ]
  },
  {
   "cell_type": "code",
   "execution_count": 0,
   "metadata": {
    "colab": {
     "autoexec": {
      "startup": false,
      "wait_interval": 0
     }
    },
    "colab_type": "code",
    "id": "1-vjG9j1KyNg"
   },
   "outputs": [],
   "source": [
    "sentences_com = train_df.groupby('user_id').no_of_images.apply(lambda x: list(x))"
   ]
  },
  {
   "cell_type": "code",
   "execution_count": 0,
   "metadata": {
    "colab": {
     "autoexec": {
      "startup": false,
      "wait_interval": 0
     }
    },
    "colab_type": "code",
    "id": "V19wlcxowGs1"
   },
   "outputs": [],
   "source": [
    "sentences_links = train_df.groupby('user_id').total_links.apply(lambda x: list(x))"
   ]
  },
  {
   "cell_type": "code",
   "execution_count": 0,
   "metadata": {
    "colab": {
     "autoexec": {
      "startup": false,
      "wait_interval": 0
     }
    },
    "colab_type": "code",
    "id": "TJRWvekdKyNk"
   },
   "outputs": [],
   "source": [
    "sennew=zip(sentences, sentences_open,sentences_sec,sentences_com,sentences_links)"
   ]
  },
  {
   "cell_type": "code",
   "execution_count": 0,
   "metadata": {
    "colab": {
     "autoexec": {
      "startup": false,
      "wait_interval": 0
     }
    },
    "colab_type": "code",
    "id": "oLH1TRCcKyNl"
   },
   "outputs": [],
   "source": [
    "# make n_rows*n_timesteps* n_features vector for all sequences\n",
    "sequences_ori=pad_sequences(pd.Series(sennew).apply(lambda x: zip(x[0],x[1],x[2],x[3])).tolist(),value=-1,padding='pre')"
   ]
  },
  {
   "cell_type": "code",
   "execution_count": 0,
   "metadata": {
    "colab": {
     "autoexec": {
      "startup": false,
      "wait_interval": 0
     }
    },
    "colab_type": "code",
    "id": "jPCXglb8KyOA"
   },
   "outputs": [],
   "source": [
    "# filter those which have length of 1\n",
    "sentences2=sentences[sentences.apply(lambda x: len(x))>1]"
   ]
  },
  {
   "cell_type": "code",
   "execution_count": 0,
   "metadata": {
    "colab": {
     "autoexec": {
      "startup": false,
      "wait_interval": 0
     }
    },
    "colab_type": "code",
    "id": "CJCBvAfIKyOX"
   },
   "outputs": [],
   "source": [
    "sentences_open2 = sentences_open[sentences_open.apply(lambda x: len(x))>1]"
   ]
  },
  {
   "cell_type": "code",
   "execution_count": 0,
   "metadata": {
    "colab": {
     "autoexec": {
      "startup": false,
      "wait_interval": 0
     }
    },
    "colab_type": "code",
    "id": "uNKsZ5LaKyOc"
   },
   "outputs": [],
   "source": [
    "sentences_sec2= sentences_sec[sentences_sec.apply(lambda x: len(x)>1)]"
   ]
  },
  {
   "cell_type": "code",
   "execution_count": 0,
   "metadata": {
    "colab": {
     "autoexec": {
      "startup": false,
      "wait_interval": 0
     }
    },
    "colab_type": "code",
    "id": "k3FAD5qUKyOg"
   },
   "outputs": [],
   "source": [
    "sentences_com2= sentences_com[sentences_com.apply(lambda x: len(x)>1)]"
   ]
  },
  {
   "cell_type": "code",
   "execution_count": 0,
   "metadata": {
    "colab": {
     "autoexec": {
      "startup": false,
      "wait_interval": 0
     }
    },
    "colab_type": "code",
    "id": "8aFn0ROiwTE7"
   },
   "outputs": [],
   "source": [
    "sentences_links2= sentences_links[sentences_links.apply(lambda x: len(x)>1)]"
   ]
  },
  {
   "cell_type": "code",
   "execution_count": 0,
   "metadata": {
    "colab": {
     "autoexec": {
      "startup": false,
      "wait_interval": 0
     }
    },
    "colab_type": "code",
    "id": "MYxADjpvKyOj"
   },
   "outputs": [],
   "source": [
    "sennew=zip(sentences2, sentences_open2,sentences_sec2,sentences_com2,sentences_links2)\n",
    "# seqser=pd.concat((pd.Series(sennew).apply(lambda x: zip(x[0],x[1])).apply(lambda x: random.sample(x,len(x))),\n",
    "# pd.Series(sennew).apply(lambda x: zip(x[0],x[1]))))\n",
    "seqser=pd.Series(sennew).apply(lambda x: zip(x[0],x[1],x[2],x[3]))\n",
    "sequences=pad_sequences(seqser.tolist(),value=-1,padding='pre')"
   ]
  },
  {
   "cell_type": "code",
   "execution_count": 149,
   "metadata": {
    "colab": {
     "autoexec": {
      "startup": false,
      "wait_interval": 0
     },
     "base_uri": "https://localhost:8080/",
     "height": 34,
     "output_extras": [
      {
       "item_id": 1
      }
     ]
    },
    "colab_type": "code",
    "executionInfo": {
     "elapsed": 1128,
     "status": "ok",
     "timestamp": 1522577949845,
     "user": {
      "displayName": "Akash Gupta",
      "photoUrl": "//lh4.googleusercontent.com/-lbaoCqdKDCg/AAAAAAAAAAI/AAAAAAAAMhQ/YGRqD6U9Se8/s50-c-k-no/photo.jpg",
      "userId": "111901583339877553911"
     },
     "user_tz": -330
    },
    "id": "76wQldP6KyO1",
    "outputId": "cc802a92-9e43-46ac-db15-d62e91c6f276"
   },
   "outputs": [
    {
     "data": {
      "text/plain": [
       "(151470, 20, 2)"
      ]
     },
     "execution_count": 149,
     "metadata": {
      "tags": []
     },
     "output_type": "execute_result"
    }
   ],
   "source": [
    "sequences.shape"
   ]
  },
  {
   "cell_type": "code",
   "execution_count": 150,
   "metadata": {
    "colab": {
     "autoexec": {
      "startup": false,
      "wait_interval": 0
     },
     "base_uri": "https://localhost:8080/",
     "height": 34,
     "output_extras": [
      {
       "item_id": 1
      }
     ]
    },
    "colab_type": "code",
    "executionInfo": {
     "elapsed": 1231,
     "status": "ok",
     "timestamp": 1522577951279,
     "user": {
      "displayName": "Akash Gupta",
      "photoUrl": "//lh4.googleusercontent.com/-lbaoCqdKDCg/AAAAAAAAAAI/AAAAAAAAMhQ/YGRqD6U9Se8/s50-c-k-no/photo.jpg",
      "userId": "111901583339877553911"
     },
     "user_tz": -330
    },
    "id": "rMXWBN8qKyPB",
    "outputId": "e282b7ee-dc48-40a7-ca92-f407b7677033"
   },
   "outputs": [
    {
     "data": {
      "text/plain": [
       "(168236, 20, 2)"
      ]
     },
     "execution_count": 150,
     "metadata": {
      "tags": []
     },
     "output_type": "execute_result"
    }
   ],
   "source": [
    "sequences_ori.shape"
   ]
  },
  {
   "cell_type": "code",
   "execution_count": 0,
   "metadata": {
    "colab": {
     "autoexec": {
      "startup": false,
      "wait_interval": 0
     }
    },
    "colab_type": "code",
    "id": "4Ha3DVMEKyPa"
   },
   "outputs": [],
   "source": [
    "train_X= sequences[:,:-1]\n",
    "train_Y = sequences[:,-1]"
   ]
  },
  {
   "cell_type": "code",
   "execution_count": 0,
   "metadata": {
    "colab": {
     "autoexec": {
      "startup": false,
      "wait_interval": 0
     }
    },
    "colab_type": "code",
    "id": "H1y6WnbOKyPf"
   },
   "outputs": [],
   "source": [
    "train_Y= train_Y[:,0]"
   ]
  },
  {
   "cell_type": "code",
   "execution_count": 178,
   "metadata": {
    "colab": {
     "autoexec": {
      "startup": false,
      "wait_interval": 0
     },
     "base_uri": "https://localhost:8080/",
     "height": 34,
     "output_extras": [
      {
       "item_id": 1
      }
     ]
    },
    "colab_type": "code",
    "executionInfo": {
     "elapsed": 942,
     "status": "ok",
     "timestamp": 1522578849746,
     "user": {
      "displayName": "Akash Gupta",
      "photoUrl": "//lh4.googleusercontent.com/-lbaoCqdKDCg/AAAAAAAAAAI/AAAAAAAAMhQ/YGRqD6U9Se8/s50-c-k-no/photo.jpg",
      "userId": "111901583339877553911"
     },
     "user_tz": -330
    },
    "id": "FHdF-ZMzKyPp",
    "outputId": "95c51c2a-0278-48c9-ab55-d9fabe1ec1fa"
   },
   "outputs": [
    {
     "data": {
      "text/plain": [
       "(151470, 19, 4)"
      ]
     },
     "execution_count": 178,
     "metadata": {
      "tags": []
     },
     "output_type": "execute_result"
    }
   ],
   "source": [
    "train_X.shape"
   ]
  },
  {
   "cell_type": "code",
   "execution_count": 0,
   "metadata": {
    "colab": {
     "autoexec": {
      "startup": false,
      "wait_interval": 0
     }
    },
    "colab_type": "code",
    "id": "y5dWrSNTKyQF"
   },
   "outputs": [],
   "source": [
    "class RocAucEvaluation(Callback):\n",
    "    def __init__(self, validation_data=(), interval=1):\n",
    "        super(Callback, self).__init__()\n",
    "\n",
    "        self.interval = interval\n",
    "        self.X_val, self.y_val = validation_data\n",
    "\n",
    "    def on_epoch_end(self, epoch, logs={}):\n",
    "        if epoch % self.interval == 0:\n",
    "            y_pred = self.model.predict(self.X_val, verbose=0)\n",
    "            score = roc_auc_score(self.y_val, y_pred)\n",
    "            print(\"\\n ROC-AUC - epoch: {:d} - score: {:.6f}\".format(epoch+1, score))"
   ]
  },
  {
   "cell_type": "code",
   "execution_count": 179,
   "metadata": {
    "colab": {
     "autoexec": {
      "startup": false,
      "wait_interval": 0
     },
     "base_uri": "https://localhost:8080/",
     "height": 68,
     "output_extras": [
      {
       "item_id": 1
      }
     ]
    },
    "colab_type": "code",
    "executionInfo": {
     "elapsed": 1548,
     "status": "ok",
     "timestamp": 1522578889874,
     "user": {
      "displayName": "Akash Gupta",
      "photoUrl": "//lh4.googleusercontent.com/-lbaoCqdKDCg/AAAAAAAAAAI/AAAAAAAAMhQ/YGRqD6U9Se8/s50-c-k-no/photo.jpg",
      "userId": "111901583339877553911"
     },
     "user_tz": -330
    },
    "id": "fI7EvwzDKyQJ",
    "outputId": "454141ff-322d-4772-a400-f695edd49542"
   },
   "outputs": [
    {
     "name": "stdout",
     "output_type": "stream",
     "text": [
      "(None, 250)\n",
      "(None, 250)\n",
      "(None, 1)\n"
     ]
    }
   ],
   "source": [
    "\n",
    "# define nn model\n",
    "# emdedding_size=500\n",
    "# vocab_size=5502\n",
    "keras_model2 = Sequential()\n",
    "# keras_model2.add(Masking(mask_value=-1. ,input_shape=(None,2)))\n",
    "# keras_model2.add(Embedding(input_dim=vocab_size, output_dim=emdedding_size, \n",
    "#                     weights=[pretrained_weights]))\n",
    "# keras_model2/.add(LSTM(units=100,return_sequences=True))\n",
    "# keras_model2.add(Conv1D(64, kernel_size = 3, padding = \"valid\", kernel_initializer = \"glorot_uniform\",input_shape=(None,4)))\n",
    "# keras_model2.add(MaxPooling1D())\n",
    "# print keras_model2.output_shape\n",
    "# keras_model2.add(Conv1D(300, 3, padding='valid',activation='relu',strides=1 ,input_shape=(None,4)))\n",
    "# keras_model2.add(Conv1D(150, 3, padding='valid',activation='relu',strides=2))\n",
    "# keras_model2.add(Conv1D(75, 3, padding='valid',activation='relu',strides=2))\n",
    "# keras_model2.add(Flatten())\n",
    "# keras_model2.add(Dropout(0.2))\n",
    "# model.add(Dense(150,activation='sigmoid'))\n",
    "# model.add(Dropout(0.2))\n",
    "keras_model2.add(Conv1D(250,\n",
    "                 3,\n",
    "                 padding='valid',\n",
    "                 activation='relu',\n",
    "                 strides=1,input_shape=(None,4)))\n",
    "# we use max pooling:\n",
    "# keras_model2.add(GlobalMaxPooling1D())\n",
    "keras_model2.add((LSTM(units=100,return_sequences=False,recurrent_dropout=0.2)))\n",
    "# keras_model2.add((GRU(units=100,return_sequences=False,recurrent_dropout=0.2)))\n",
    "# keras_model2.add(Conv1D(300, 3, padding='valid',activation='relu',strides=2 ,input_shape=(None,4)))\n",
    "# keras_model2.add(Conv1D(150, 3, padding='valid',activation='relu',strides=2))\n",
    "# keras_model2.add(Conv1D(75, 3, padding='valid',activation='relu',strides=2))\n",
    "# keras_model2.add(Flatten())\n",
    "print keras_model2.output_shape\n",
    "# keras_model2.add(Conv1D(32, kernel_size = 3, padding = \"valid\", kernel_initializer = \"glorot_uniform\"))\n",
    "# print keras_model2.output_shape\n",
    "# keras_model2.add(GlobalMaxPooling1D())\n",
    "print keras_model2.output_shape\n",
    "\n",
    "keras_model2.add(Dropout(0.2))\n",
    "# keras_model2.add(LSTM(units=500,return_sequences=False))\n",
    "keras_model2.add(Dense(units=100))\n",
    "keras_model2.add(Dropout(0.2))\n",
    "keras_model2.add(Dense(units=10))\n",
    "keras_model2.add(Dropout(0.2))\n",
    "# keras_model2.add(Dense(units=5))\n",
    "# keras_model2.add(Dropout(0.2))\n",
    "\n",
    "keras_model2.add(Dense(units=1))\n",
    "print keras_model2.output_shape\n",
    "keras_model2.add(Activation('sigmoid'))\n",
    "keras_model2.compile(optimizer='Adamax', loss='binary_crossentropy',metrics=['accuracy','mse'])"
   ]
  },
  {
   "cell_type": "code",
   "execution_count": 0,
   "metadata": {
    "colab": {
     "autoexec": {
      "startup": false,
      "wait_interval": 0
     }
    },
    "colab_type": "code",
    "id": "WRgCCoQ3fohC"
   },
   "outputs": [],
   "source": [
    "# train_X=np.concatenate((np.ones_like(train_X[:,0]).reshape(train_X.shape[0],-1,4)*-1,train_X),axis=1)"
   ]
  },
  {
   "cell_type": "code",
   "execution_count": 0,
   "metadata": {
    "colab": {
     "autoexec": {
      "startup": false,
      "wait_interval": 0
     }
    },
    "colab_type": "code",
    "id": "mVEm8KAfKyQR"
   },
   "outputs": [],
   "source": [
    "xtrain, xval, ytrain, yval = train_test_split(train_X, train_Y, test_size=0.1, random_state=7)"
   ]
  },
  {
   "cell_type": "code",
   "execution_count": 182,
   "metadata": {
    "colab": {
     "autoexec": {
      "startup": false,
      "wait_interval": 0
     },
     "base_uri": "https://localhost:8080/",
     "height": 34,
     "output_extras": [
      {
       "item_id": 1
      }
     ]
    },
    "colab_type": "code",
    "executionInfo": {
     "elapsed": 1575,
     "status": "ok",
     "timestamp": 1522578897238,
     "user": {
      "displayName": "Akash Gupta",
      "photoUrl": "//lh4.googleusercontent.com/-lbaoCqdKDCg/AAAAAAAAAAI/AAAAAAAAMhQ/YGRqD6U9Se8/s50-c-k-no/photo.jpg",
      "userId": "111901583339877553911"
     },
     "user_tz": -330
    },
    "id": "NbQi0fReKyQc",
    "outputId": "0b85153a-b365-4b5f-f093-f63a2077cc91"
   },
   "outputs": [
    {
     "data": {
      "text/plain": [
       "((151470, 19, 4), (136323, 19, 4), (15147, 19, 4))"
      ]
     },
     "execution_count": 182,
     "metadata": {
      "tags": []
     },
     "output_type": "execute_result"
    }
   ],
   "source": [
    "train_X.shape, xtrain.shape, xval.shape"
   ]
  },
  {
   "cell_type": "code",
   "execution_count": 0,
   "metadata": {
    "colab": {
     "autoexec": {
      "startup": false,
      "wait_interval": 0
     }
    },
    "colab_type": "code",
    "id": "7efnrfCLKyQi"
   },
   "outputs": [],
   "source": [
    "# filepath=\"../input/best-model/best.hdf5\"\n",
    "import pickle\n",
    "filename_m= 'cnnlstm_'\n",
    "pickle.dump(keras_model2.to_json(),open(filename_m+'.pkl','w'))\n",
    "filepath=filename_m+\"weights-improvement-{epoch:02d}-{val_acc:.2f}.hdf5\"\n",
    "checkpoint = ModelCheckpoint(filepath, monitor='val_acc', verbose=1, save_best_only=False, mode='max')\n",
    "ra_val = RocAucEvaluation(validation_data=(xval, yval), interval = 1)\n",
    "callbacks_list = [checkpoint,ra_val]"
   ]
  },
  {
   "cell_type": "code",
   "execution_count": 0,
   "metadata": {
    "colab": {
     "autoexec": {
      "startup": false,
      "wait_interval": 0
     }
    },
    "colab_type": "code",
    "id": "7a75OYPhKyQk"
   },
   "outputs": [],
   "source": [
    "sample_weight=np.concatenate((np.ones(train_X.shape[0]/3)*3,np.ones(train_X.shape[0]/3)*2,\n",
    "                              np.ones(train_X.shape[0]/3)))"
   ]
  },
  {
   "cell_type": "code",
   "execution_count": 185,
   "metadata": {
    "colab": {
     "autoexec": {
      "startup": false,
      "wait_interval": 0
     },
     "base_uri": "https://localhost:8080/",
     "height": 34,
     "output_extras": [
      {
       "item_id": 1
      }
     ]
    },
    "colab_type": "code",
    "executionInfo": {
     "elapsed": 950,
     "status": "ok",
     "timestamp": 1522578912424,
     "user": {
      "displayName": "Akash Gupta",
      "photoUrl": "//lh4.googleusercontent.com/-lbaoCqdKDCg/AAAAAAAAAAI/AAAAAAAAMhQ/YGRqD6U9Se8/s50-c-k-no/photo.jpg",
      "userId": "111901583339877553911"
     },
     "user_tz": -330
    },
    "id": "NE51h98Q1Unz",
    "outputId": "59ed1c69-b698-4d2c-d5d1-0d0f8c8ed41c"
   },
   "outputs": [
    {
     "data": {
      "text/plain": [
       "(136323, 19, 4)"
      ]
     },
     "execution_count": 185,
     "metadata": {
      "tags": []
     },
     "output_type": "execute_result"
    }
   ],
   "source": [
    "xtrain.shape"
   ]
  },
  {
   "cell_type": "code",
   "execution_count": null,
   "metadata": {
    "colab": {
     "autoexec": {
      "startup": false,
      "wait_interval": 0
     },
     "base_uri": "https://localhost:8080/",
     "height": 10271,
     "output_extras": [
      {
       "item_id": 21
      },
      {
       "item_id": 40
      },
      {
       "item_id": 57
      },
      {
       "item_id": 76
      },
      {
       "item_id": 94
      },
      {
       "item_id": 112
      },
      {
       "item_id": 130
      },
      {
       "item_id": 146
      },
      {
       "item_id": 164
      },
      {
       "item_id": 182
      },
      {
       "item_id": 201
      },
      {
       "item_id": 220
      },
      {
       "item_id": 239
      },
      {
       "item_id": 258
      },
      {
       "item_id": 274
      },
      {
       "item_id": 292
      },
      {
       "item_id": 311
      },
      {
       "item_id": 331
      },
      {
       "item_id": 349
      },
      {
       "item_id": 365
      },
      {
       "item_id": 366
      }
     ]
    },
    "colab_type": "code",
    "executionInfo": {
     "elapsed": 174954,
     "status": "ok",
     "timestamp": 1522579089258,
     "user": {
      "displayName": "Akash Gupta",
      "photoUrl": "//lh4.googleusercontent.com/-lbaoCqdKDCg/AAAAAAAAAAI/AAAAAAAAMhQ/YGRqD6U9Se8/s50-c-k-no/photo.jpg",
      "userId": "111901583339877553911"
     },
     "user_tz": -330
    },
    "id": "xThDJdWpKyQm",
    "outputId": "9fba9908-8f87-416c-b456-834cd6046ccb"
   },
   "outputs": [],
   "source": [
    "keras_model2.fit(xtrain,ytrain, epochs=19, validation_data=(xval,yval),\n",
    "          batch_size=1024, callbacks = callbacks_list,verbose=1)"
   ]
  },
  {
   "cell_type": "code",
   "execution_count": 0,
   "metadata": {
    "colab": {
     "autoexec": {
      "startup": false,
      "wait_interval": 0
     }
    },
    "colab_type": "code",
    "id": "e4z-mBLPKyQq"
   },
   "outputs": [],
   "source": [
    "  from keras.models import model_from_json\n",
    "# keras_model2= model_from_json(pickle.load(open('lstm2fea100.pkl')))\n",
    "# keras_model2.load_weights('lstmcorrectorderweights-improvement-24-0.99.hdf5')"
   ]
  },
  {
   "cell_type": "code",
   "execution_count": 0,
   "metadata": {
    "colab": {
     "autoexec": {
      "startup": false,
      "wait_interval": 0
     }
    },
    "colab_type": "code",
    "id": "xHgiafvmKyRY"
   },
   "outputs": [],
   "source": [
    "nnpred=keras_model2.predict(sequences_ori)"
   ]
  },
  {
   "cell_type": "code",
   "execution_count": 0,
   "metadata": {
    "colab": {
     "autoexec": {
      "startup": false,
      "wait_interval": 0
     }
    },
    "colab_type": "code",
    "id": "hLG63_X1KyRf"
   },
   "outputs": [],
   "source": [
    "snn= sentences.reset_index()"
   ]
  },
  {
   "cell_type": "code",
   "execution_count": 164,
   "metadata": {
    "colab": {
     "autoexec": {
      "startup": false,
      "wait_interval": 0
     },
     "base_uri": "https://localhost:8080/",
     "height": 34,
     "output_extras": [
      {
       "item_id": 1
      }
     ]
    },
    "colab_type": "code",
    "executionInfo": {
     "elapsed": 830,
     "status": "ok",
     "timestamp": 1522578652745,
     "user": {
      "displayName": "Akash Gupta",
      "photoUrl": "//lh4.googleusercontent.com/-lbaoCqdKDCg/AAAAAAAAAAI/AAAAAAAAMhQ/YGRqD6U9Se8/s50-c-k-no/photo.jpg",
      "userId": "111901583339877553911"
     },
     "user_tz": -330
    },
    "id": "ic8PLfrgKyRi",
    "outputId": "2d09df8f-dccd-42d4-db7a-3313b30108b0"
   },
   "outputs": [
    {
     "data": {
      "text/plain": [
       "((168236, 2), (168236, 1), (168236,))"
      ]
     },
     "execution_count": 164,
     "metadata": {
      "tags": []
     },
     "output_type": "execute_result"
    }
   ],
   "source": [
    "snn.shape, nnpred.shape , sentences.shape"
   ]
  },
  {
   "cell_type": "code",
   "execution_count": 0,
   "metadata": {
    "colab": {
     "autoexec": {
      "startup": false,
      "wait_interval": 0
     }
    },
    "colab_type": "code",
    "id": "yEUZfFu2KyRp"
   },
   "outputs": [],
   "source": [
    "snn['pred']= nnpred"
   ]
  },
  {
   "cell_type": "code",
   "execution_count": 0,
   "metadata": {
    "colab": {
     "autoexec": {
      "startup": false,
      "wait_interval": 0
     }
    },
    "colab_type": "code",
    "id": "1Z4rSIt6KyT3"
   },
   "outputs": [],
   "source": [
    "test_df['send_date']= pd.to_datetime(test_df.send_date,format=\"%d-%m-%Y %H:%M\")"
   ]
  },
  {
   "cell_type": "code",
   "execution_count": 0,
   "metadata": {
    "colab": {
     "autoexec": {
      "startup": false,
      "wait_interval": 0
     }
    },
    "colab_type": "code",
    "id": "W9dTls-JKyT-"
   },
   "outputs": [],
   "source": [
    "test_df['send_week']=test_df.send_date.dt.week\n",
    "test_df['send_day']= test_df.send_date.dt.day\n",
    "test_df['send_hour']= test_df.send_date.dt.hour\n",
    "test_df['send_hour']=(test_df.send_hour/6).astype('int')\n",
    "test_df['send_weekday']=test_df.send_date.dt.weekday\n",
    "# pred_nn=test_df.merge(snn,how='left').groupby(['campaign_id','send_weekday']).pred.apply(lambda x: x.fillna(x.mean()))"
   ]
  },
  {
   "cell_type": "code",
   "execution_count": 0,
   "metadata": {
    "colab": {
     "autoexec": {
      "startup": false,
      "wait_interval": 0
     }
    },
    "colab_type": "code",
    "id": "0jz0ZX4FKyRw"
   },
   "outputs": [],
   "source": [
    "pred_nn=test_df.merge(snn,how='left').groupby(['campaign_id','send_weekday',\n",
    "                                               'send_hour']).pred.apply(lambda x: x.fillna((x.quantile(0.9))))"
   ]
  },
  {
   "cell_type": "code",
   "execution_count": 0,
   "metadata": {
    "colab": {
     "autoexec": {
      "startup": false,
      "wait_interval": 0
     }
    },
    "colab_type": "code",
    "id": "3_b70e7aKyR2"
   },
   "outputs": [],
   "source": [
    "submission= pd.read_csv('sample_submission_4fcZwvQ.csv')\n",
    "submission.is_click = pred_nn\n",
    "submission.to_csv('submission_lstmcnn.csv',index=False)"
   ]
  },
  {
   "cell_type": "code",
   "execution_count": 6,
   "metadata": {},
   "outputs": [
    {
     "data": {
      "text/plain": [
       "'2.2.2'"
      ]
     },
     "execution_count": 6,
     "metadata": {},
     "output_type": "execute_result"
    }
   ],
   "source": [
    "import matplotlib as pd\n",
    "pd.__version__"
   ]
  },
  {
   "cell_type": "code",
   "execution_count": null,
   "metadata": {},
   "outputs": [],
   "source": []
  }
 ],
 "metadata": {
  "accelerator": "GPU",
  "colab": {
   "collapsed_sections": [],
   "default_view": {},
   "name": "Copy of Untitled-Copy1.ipynb",
   "provenance": [
    {
     "file_id": "1hznci-bKqi_hiGI3cTFlhZkB4s6fWc1G",
     "timestamp": 1522527298306
    }
   ],
   "version": "0.3.2",
   "views": {}
  },
  "kernelspec": {
   "display_name": "Python 3",
   "language": "python",
   "name": "python3"
  },
  "language_info": {
   "codemirror_mode": {
    "name": "ipython",
    "version": 3
   },
   "file_extension": ".py",
   "mimetype": "text/x-python",
   "name": "python",
   "nbconvert_exporter": "python",
   "pygments_lexer": "ipython3",
   "version": "3.6.4"
  }
 },
 "nbformat": 4,
 "nbformat_minor": 1
}
